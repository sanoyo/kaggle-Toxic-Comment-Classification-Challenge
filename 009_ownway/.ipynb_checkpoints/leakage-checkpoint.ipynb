{
 "cells": [
  {
   "cell_type": "markdown",
   "metadata": {},
   "source": [
    "## Data Leakage in Machine Learning\n",
    "https://machinelearningmastery.com/data-leakage-machine-learning/"
   ]
  },
  {
   "cell_type": "markdown",
   "metadata": {},
   "source": [
    "### 何が問題か\n",
    "1. コンペの場合\n",
    "最上位のモデルは、一般的なデータよりも、`leaky data `を使用します。\n",
    "2. 自分が提供している側の人間だった場合\n",
    "匿名化をなくすことは、プライバシー侵害になるかねない。\n",
    "3. データ分析の場合\n",
    "この場合、使用できない可能性がある。過度に楽観的な味方をしてしまうため\n",
    "\n",
    "\n",
    "### どうやって確かめるのか？\n",
    "予測を行った際に、真実よりも精度が高すぎる場合\n",
    "\n",
    "#### 例\n",
    "- `Time series`のデータセットの場合\n",
    "- ランダムサンプリングした際の\n",
    "\n",
    "### `Data Leakage`を最小化するためには\n",
    "方針としては、`Data Leakage`を最小化するという考えである。\n",
    "\n",
    "#### 具体的な手法\n",
    "- 交差検証フォールド内でデータ準備を実行する\n",
    "- 開発したモデルの最終的な健全性チェックのために検証データセットを取っておく\n",
    "\n",
    "### `Data Leakage`と戦うためには？\n",
    "- ノイズを加える\n",
    "- `Leaky`変数を取り除く\n",
    "- `Pipelines`を使用する\n",
    "- `HoldOutsetto`を使用する"
   ]
  },
  {
   "cell_type": "code",
   "execution_count": null,
   "metadata": {},
   "outputs": [],
   "source": []
  }
 ],
 "metadata": {
  "kernelspec": {
   "display_name": "Python 3",
   "language": "python",
   "name": "python3"
  },
  "language_info": {
   "codemirror_mode": {
    "name": "ipython",
    "version": 3
   },
   "file_extension": ".py",
   "mimetype": "text/x-python",
   "name": "python",
   "nbconvert_exporter": "python",
   "pygments_lexer": "ipython3",
   "version": "3.6.4"
  }
 },
 "nbformat": 4,
 "nbformat_minor": 2
}
